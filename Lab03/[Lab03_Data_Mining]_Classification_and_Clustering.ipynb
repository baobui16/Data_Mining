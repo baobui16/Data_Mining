{
 "cells": [
  {
   "cell_type": "markdown",
   "metadata": {
    "id": "xIL0jeM78tKu"
   },
   "source": [
    "## Student Info\n",
    "\n",
    "* Student name 1:\n",
    "* Student ID 1:\n",
    "\n",
    "* Student name 2:\n",
    "* Student ID 2:"
   ]
  },
  {
   "cell_type": "markdown",
   "metadata": {
    "id": "PPGr3YiG80kb"
   },
   "source": [
    "## Project Info\n",
    "\n",
    "This project aims to get hands-on experience in implementing some Classification and clustering algorithms taught in Data Mining and Applications course.\n",
    "\n",
    "There are 2 exercises in this project:\n",
    "* Binary classification using Decision Tree (ID3 algorithm)\n",
    "* Data clustering with K-means clustering"
   ]
  },
  {
   "cell_type": "markdown",
   "metadata": {
    "id": "1jeSVc1g-xx0"
   },
   "source": [
    "## Instructions\n",
    "\n",
    "### How to finish\n",
    "\n",
    "To finish the project, fill in:\n",
    "- ```YOUR CODE HERE``` in code cells\n",
    "\n",
    "- ```Your answer here``` in text cells.\n",
    "\n",
    "\n",
    "<font color='red'>**NOTE:**</font>\n",
    "\n",
    "- Your project must be finished by your own self. You may discuss with the others, but must not copy (partially or entirely) their codes or solutions. You will receive a <font color='red'>0 point</font> for this project if you violate this plagiarism rule.\n",
    "\n",
    "- You can create new cells to clarify your code / answer, however, please <font color='red'>do not delete any pre-defined code cells or test case cells</font> as it may affect the grading results.\n",
    "\n",
    "- The given test cases (if any) are used to only assist your code debugging / unit testing. Passing these test cases does not necessarily mean you will get the maximum point for the exercise."
   ]
  },
  {
   "cell_type": "markdown",
   "metadata": {
    "id": "SSmFr8aou0R1"
   },
   "source": [
    "### How to submit\n",
    "\n",
    "In the grading stage, I will first select `Kernel` - `Restart Kernel & Run All Cells` to restart and run all cells in your notebook. As a result, before submitting your project, you should run `Kernel` - `Restart Kernel & Run All Cells` to ensure your code will run as you expect.\n",
    "\n",
    "After that, rename your notebook as `ID1_ID2.ipynb` (e.g. `19123_19456.ipynb`) and submit on Moodle.\n",
    "\n",
    "<font color=red>Please follow the above submission guidelines. Any violation of these instructions may cost you some penalty points!!!</font>\n"
   ]
  },
  {
   "cell_type": "markdown",
   "metadata": {
    "id": "3BOp6rdqg5SL"
   },
   "source": [
    "## Exercise 1: Classification (6 points)\n",
    "\n",
    "### Requirements\n",
    "\n",
    "You will need to implement Decision Tree algorithm (ID3) in Python language.\n",
    "\n",
    "**Description**:\n",
    "\n",
    "- In this exercise, you only need to build a decision tree model using categorical attributes (no need to handle numerical attributes). You may transform numerical attributes into categorical before feeding into classification model.\n",
    "\n",
    "- A sample belongs to either one of the given labels (binary classification).\n",
    "\n",
    "- Dataset: [tennis.txt](https://drive.google.com/file/d/1jv67IlMIxGxwGGaP47AZ_1t3mxIn82Y7/view?usp=sharing) and [titanic2.txt](https://drive.google.com/file/d/1IwOxcPz-Hq1_JOOfGylJxy1TYhDvfEsg/view?usp=sharing)\n",
    "\n",
    "\n",
    "You will need to implement `load_data` function and DecisionTree class with the following methods:\n",
    "\n",
    "- ```fit```: build tree from given dataset, using ID3 algorithm\n",
    "\n",
    "- ```predict```: make predictions on new data points using the trained decision tree\n",
    "\n",
    "- ```visualize```: plot trained decision tree from training dataset. You may choose how to visualize the trained model, as long as the tree structure of the model is clarified (you may use available visualization packages such as ```tree``` or ```graphviz```, or implement the visualization code yourself). For example, a simple representation of a decision tree built from [tennis.txt](https://drive.google.com/file/d/1jv67IlMIxGxwGGaP47AZ_1t3mxIn82Y7/view?usp=sharing) dataset may look like:\n",
    "\n",
    "\n",
    "```\n",
    "outlook = sunny\n",
    "|  humidity = high: no\n",
    "|  humidity = normal: yes\n",
    "outlook = overcast: yes\n",
    "outlook = rainy\n",
    "|  windy = TRUE: no\n",
    "|  windy = FALSE: yes\n",
    "```\n",
    "\n",
    "**Note**:\n",
    "\n",
    "- For [tennis.txt](https://drive.google.com/file/d/1jv67IlMIxGxwGGaP47AZ_1t3mxIn82Y7/view?usp=sharing) dataset, you can use all samples for training without spliting into train and test set. For [titanic2.txt](https://drive.google.com/file/d/1IwOxcPz-Hq1_JOOfGylJxy1TYhDvfEsg/view?usp=sharing) dataset, you may need to split into train/test with the ratio of 80/20 (use ```sklearn.model_selection.train_test_split``` with ```random_state=520``` for reproducibility)\n",
    "\n",
    "- ```load_data``` function and ```DecisionTree``` class must be implemented once only and be usable for different datasets\n",
    "\n",
    "- For each dataset, you need to ```load_data``` from input files, ```fit``` train dataset into model, use the trained model to ```predict``` on ```X_train``` and ```X_test``` (if any), calculate accuracy (use ```sklearn.metrics.accuracy_score```), and eventually ```visualize``` trained model"
   ]
  },
  {
   "cell_type": "markdown",
   "metadata": {
    "id": "t8bxZvhd80Kt"
   },
   "source": [
    "### Implementation (6 points)"
   ]
  },
  {
   "cell_type": "code",
   "execution_count": 1,
   "metadata": {
    "id": "zp2i5B0R8m_T"
   },
   "outputs": [],
   "source": [
    "import pandas as pd\n",
    "import numpy as np\n",
    "import sklearn\n",
    "from sklearn.metrics import accuracy_score"
   ]
  },
  {
   "cell_type": "code",
   "execution_count": 2,
   "metadata": {},
   "outputs": [],
   "source": [
    "Features_name = None\n",
    "Label = None"
   ]
  },
  {
   "cell_type": "code",
   "execution_count": 3,
   "metadata": {
    "id": "cttFBEpc9WUX"
   },
   "outputs": [],
   "source": [
    "# 1\n",
    "\n",
    "### Description: data loading and categorization (if any)\n",
    "def load_data(file_path: str, split: bool = True):\n",
    "    \"\"\"\n",
    "    Load data from file_path and return numpy data\n",
    "\n",
    "    Parameters\n",
    "    ----------\n",
    "    file_path : str\n",
    "        The path of input data file (tab separated).\n",
    "    split : bool\n",
    "        Whether or not to return test set.\n",
    "\n",
    "    Returns\n",
    "    ----------\n",
    "    (X_train, y_train)\n",
    "    \n",
    "    : training numpy array if split = False, else\n",
    "    (X_train, y_train), (X_test, y_test): training and testing numpy array if split = True\n",
    "    \"\"\"\n",
    "\n",
    "    # YOUR CODE HERE\n",
    "    df = pd.read_csv(file_path,sep='\\t')\n",
    "    global Features_name, Label\n",
    "    X = df.to_numpy()[:, :-1]\n",
    "    Label,y = np.unique(df.to_numpy()[:, -1] , return_inverse=True)\n",
    "    Features_name = df.columns.to_numpy()\n",
    "    if split:\n",
    "        #test size = 30%\n",
    "        size = int(len(X)*0.3)\n",
    "        random = np.random.choice(np.arange(len(X)),size=(size,),replace=False)\n",
    "        X_test = X[random]\n",
    "        X_train = X[np.isin(np.arange(len(X)), random, invert=True)]\n",
    "        y_test = y[random]\n",
    "        y_train = y[np.isin(np.arange(len(X)), random, invert=True)]\n",
    "        return (X_train, y_train), (X_test, y_test)\n",
    "    else :\n",
    "        return (X, y), (None, None)   "
   ]
  },
  {
   "cell_type": "code",
   "execution_count": 4,
   "metadata": {},
   "outputs": [
    {
     "data": {
      "text/plain": [
       "((array([['sunny', 'hot', 'high', 'weak'],\n",
       "         ['sunny', 'hot', 'high', 'strong'],\n",
       "         ['overcast', 'hot', 'high', 'weak'],\n",
       "         ['rain', 'mild', 'high', 'weak'],\n",
       "         ['rain', 'cool', 'normal', 'weak'],\n",
       "         ['sunny', 'mild', 'high', 'weak'],\n",
       "         ['sunny', 'cool', 'normal', 'weak'],\n",
       "         ['rain', 'mild', 'normal', 'weak'],\n",
       "         ['sunny', 'mild', 'normal', 'strong'],\n",
       "         ['rain', 'mild', 'high', 'strong']], dtype=object),\n",
       "  array([0, 0, 1, 1, 1, 0, 1, 1, 1, 0], dtype=int64)),\n",
       " (array([['rain', 'cool', 'normal', 'strong'],\n",
       "         ['overcast', 'cool', 'normal', 'strong'],\n",
       "         ['overcast', 'mild', 'high', 'strong'],\n",
       "         ['overcast', 'hot', 'normal', 'weak']], dtype=object),\n",
       "  array([0, 1, 1, 1], dtype=int64)))"
      ]
     },
     "execution_count": 4,
     "metadata": {},
     "output_type": "execute_result"
    }
   ],
   "source": [
    "load_data(\"data/tennis.txt\")"
   ]
  },
  {
   "cell_type": "code",
   "execution_count": 5,
   "metadata": {},
   "outputs": [
    {
     "data": {
      "text/plain": [
       "array(['no', 'yes'], dtype=object)"
      ]
     },
     "execution_count": 5,
     "metadata": {},
     "output_type": "execute_result"
    }
   ],
   "source": [
    "Label"
   ]
  },
  {
   "cell_type": "code",
   "execution_count": 6,
   "metadata": {},
   "outputs": [
    {
     "data": {
      "text/plain": [
       "array(['outlook', 'temperature', 'humidity', 'wind', 'playtennis'],\n",
       "      dtype=object)"
      ]
     },
     "execution_count": 6,
     "metadata": {},
     "output_type": "execute_result"
    }
   ],
   "source": [
    "Features_name"
   ]
  },
  {
   "cell_type": "code",
   "execution_count": 7,
   "metadata": {
    "id": "oZlGLcBn-wTM"
   },
   "outputs": [],
   "source": [
    "# 4\n",
    "\n",
    "# Decision Tree class\n",
    "# You should implement the ID3 algorithm here\n",
    "# You can add other utility methods to make your code easy to read :) \n",
    "\n",
    "class DecisionTree:\n",
    "    def __init__(self, Name = 'root', Column_name = None, Attribute = None):\n",
    "        self.Name = Name\n",
    "        self.Attribute = Attribute\n",
    "        self.Column_name = Column_name\n",
    "        self.List_nodes = list()\n",
    "    \n",
    "    def entropy(self,freq):\n",
    "        if freq[0] == 0 or freq[1] == 0:\n",
    "            return 0\n",
    "        ratio_false = (freq[0]) / np.sum(freq)\n",
    "        ratio_true  = (freq[1]) / np.sum(freq)\n",
    "        return -ratio_false*np.log2(ratio_false) - ratio_true*np.log2(ratio_true)         \n",
    "\n",
    "    def fit(self, X_train, y_train):\n",
    "        global Features_name , Label\n",
    "        if self.Name == 'root':\n",
    "            self.Column_name = Features_name\n",
    "        \n",
    "        height, width = X_train.shape\n",
    "        if width == 0:\n",
    "            fred = [0, 0]\n",
    "            for y in y_train:\n",
    "                fred[y] += 1\n",
    "\n",
    "            if fred[0] > fred[1]:\n",
    "                self.List_nodes = [DecisionTree(Name = Label[0], Attribute = Features_name[-1])]\n",
    "            else: \n",
    "                self.List_nodes = [DecisionTree(Name = Label[1], Attribute = Features_name[-1])]\n",
    "            return \n",
    "        # Tạo dictionary để đếm số lần xuất hiện của các giá trị trong mỗi thuộc tính và lưu lại index của các phần tử chứa giá trị đó\n",
    "        make_decision = [dict() for _ in range(width)]\n",
    "        Item_transactions = [dict() for _ in range(width)]\n",
    "        for i in range(height):\n",
    "            label = y_train[i]\n",
    "            for (index, value) in enumerate(X_train[i]):\n",
    "                counter = make_decision[index]\n",
    "                counter[value] = counter.get(value, [0, 0])\n",
    "                counter[value][label] += 1\n",
    "                \n",
    "                collector = Item_transactions[index]\n",
    "                collector[value] = collector.get(value, [])\n",
    "                collector[value].append(i)\n",
    "        # Tính toán Information Gain để chọn thuộc tính tốt nhất để chia       \n",
    "        Information_Gain = []\n",
    "        for (index, counter) in enumerate(make_decision):\n",
    "            I = 0\n",
    "            num_ele = np.sum(np.array(list(counter.values())))\n",
    "            for value in counter.values():\n",
    "                I += (sum(value)/num_ele)*self.entropy(value)\n",
    "            Information_Gain.append(I)\n",
    "        # Chọn thuộc tính có Information Gain nhỏ nhất để chia\n",
    "        min_index = np.argmin(np.array(Information_Gain))\n",
    "        # Tạo node DecisionTree mới và đệ quy gọi hàm fit với dữ liệu con\n",
    "        collector = Item_transactions[min_index]\n",
    "        counter = make_decision[min_index]\n",
    "        column_name = self.Column_name[min_index]\n",
    "        \n",
    "        X_train = np.delete(X_train, min_index, axis = 1)\n",
    "        self.Column_name = np.delete(self.Column_name, min_index)\n",
    "        for (key, indices) in collector.items():\n",
    "            node = DecisionTree(key, Column_name = self.Column_name, Attribute = column_name)\n",
    "            if counter[key][0] == 0:\n",
    "                node.List_nodes = [DecisionTree(Name = Label[1], Attribute = Features_name[-1])]\n",
    "            elif counter[key][1] == 0:\n",
    "                node.List_nodes = [DecisionTree(Name = Label[0], Attribute = Features_name[-1])]\n",
    "            else:\n",
    "                new_X = np.take(X_train, indices, axis = 0)\n",
    "                new_y = np.take(y_train, indices, axis = 0)\n",
    "                node.fit(new_X, new_y)\n",
    "            self.List_nodes.append(node)\n",
    "\n",
    "    def Find_node(self, x_test):\n",
    "        global Label\n",
    "        for node in self.List_nodes:\n",
    "            if node.Attribute not in x_test:\n",
    "                return (int)(node.Name == Label[1])\n",
    "            if x_test[node.Attribute] == node.Name:\n",
    "                return node.Find_node(x_test)\n",
    "        # pruning\n",
    "        if len(self.List_nodes) == 1:\n",
    "            return (int)(self.List_nodes[0].Name == Label[1])\n",
    "        # early stopping\n",
    "        correct_count = sum([(node.Name == Label[1]) == x_test[node.Attribute] for node in self.List_nodes])\n",
    "        if correct_count / len(self.List_nodes) >= 0.9:\n",
    "            return (int)(self.List_nodes[0].Name == Label[1])\n",
    "        node = np.random.choice(self.List_nodes)\n",
    "        x_test[node.Attribute] = node.Name\n",
    "        return self.Find_node(x_test)\n",
    "        \n",
    "    def predict(self, X_test):\n",
    "        global Features_name , Label\n",
    "        y_pred = np.ones(len(X_test), dtype = int)\n",
    "        \n",
    "        for (index, x_test) in enumerate(X_test):\n",
    "            x_test = dict(zip(Features_name, x_test))\n",
    "            y_pred[index] = self.Find_node(x_test)\n",
    "        return y_pred\n",
    "\n",
    "    def visualize(self, prefix=''):\n",
    "        print(str(prefix) + str(self.Attribute) + ' = ' + str(self.Name) + ' :')\n",
    "        if len(self.List_nodes) > 0:\n",
    "            for i in range(len(self.List_nodes)):\n",
    "                self.List_nodes[i].visualize(prefix + '\\t')\n"
   ]
  },
  {
   "cell_type": "code",
   "execution_count": 8,
   "metadata": {
    "id": "_GQ7FhTQ_zQZ"
   },
   "outputs": [
    {
     "name": "stdout",
     "output_type": "stream",
     "text": [
      "Accurancy on train data:  1.0\n",
      "Accurancy on test data:  0.75\n",
      "================================== Tree ===============================================\n",
      "\n",
      "None = root :\n",
      "\toutlook = sunny :\n",
      "\t\ttemperature = hot :\n",
      "\t\t\tplaytennis = no :\n",
      "\t\ttemperature = cool :\n",
      "\t\t\tplaytennis = yes :\n",
      "\t\ttemperature = mild :\n",
      "\t\t\tplaytennis = yes :\n",
      "\toutlook = overcast :\n",
      "\t\tplaytennis = yes :\n",
      "\toutlook = rain :\n",
      "\t\twind = weak :\n",
      "\t\t\tplaytennis = yes :\n",
      "\t\twind = strong :\n",
      "\t\t\tplaytennis = no :\n"
     ]
    }
   ],
   "source": [
    "# 0.5 = 0.25 (tennis dataset) + 0.25 (titanic2 dataset) \n",
    "### NOTE: Flow to run your code (do this for all your datasets)\n",
    "# dataset 1 (create one cell for each dataset with the following content)\n",
    "model = DecisionTree()\n",
    "(X_train, y_train), (X_test, y_test)= load_data(\"data/tennis.txt\")\n",
    "model.fit(X_train, y_train)\n",
    "y_pred = model.predict(X_train) \n",
    "train_model = accuracy_score(y_train, y_pred)\n",
    "y_pred = model.predict(X_test) \n",
    "test_model = accuracy_score(y_test, y_pred)\n",
    "print(\"Accurancy on train data: \",train_model)\n",
    "print(\"Accurancy on test data: \",test_model)\n",
    "print(\"================================== Tree ===============================================\\n\")\n",
    "model.visualize()"
   ]
  },
  {
   "cell_type": "code",
   "execution_count": 9,
   "metadata": {},
   "outputs": [
    {
     "name": "stdout",
     "output_type": "stream",
     "text": [
      "Accurancy on train data:  0.7975340687865022\n",
      "Accurancy on test data:  0.7727272727272727\n",
      "================================== Tree ===============================================\n",
      "\n",
      "None = root :\n",
      "\tsex = male :\n",
      "\t\tpclass = 1st :\n",
      "\t\t\tage = adult :\n",
      "\t\t\t\tsurvived = no :\n",
      "\t\t\tage = child :\n",
      "\t\t\t\tsurvived = yes :\n",
      "\t\tpclass = 2nd :\n",
      "\t\t\tage = adult :\n",
      "\t\t\t\tsurvived = no :\n",
      "\t\t\tage = child :\n",
      "\t\t\t\tsurvived = yes :\n",
      "\t\tpclass = 3rd :\n",
      "\t\t\tage = adult :\n",
      "\t\t\t\tsurvived = no :\n",
      "\t\t\tage = child :\n",
      "\t\t\t\tsurvived = no :\n",
      "\t\tpclass = crew :\n",
      "\t\t\tage = adult :\n",
      "\t\t\t\tsurvived = no :\n",
      "\tsex = female :\n",
      "\t\tpclass = 1st :\n",
      "\t\t\tage = adult :\n",
      "\t\t\t\tsurvived = yes :\n",
      "\t\tpclass = 2nd :\n",
      "\t\t\tage = adult :\n",
      "\t\t\t\tsurvived = yes :\n",
      "\t\t\tage = child :\n",
      "\t\t\t\tsurvived = yes :\n",
      "\t\tpclass = 3rd :\n",
      "\t\t\tage = adult :\n",
      "\t\t\t\tsurvived = no :\n",
      "\t\t\tage = child :\n",
      "\t\t\t\tsurvived = no :\n",
      "\t\tpclass = crew :\n",
      "\t\t\tage = adult :\n",
      "\t\t\t\tsurvived = yes :\n"
     ]
    }
   ],
   "source": [
    "model = DecisionTree()\n",
    "(X_train, y_train), (X_test, y_test)= load_data(\"data/titanic2.txt\")\n",
    "model.fit(X_train, y_train)\n",
    "y_pred = model.predict(X_train) \n",
    "train_model = accuracy_score(y_train, y_pred)\n",
    "y_pred = model.predict(X_test) \n",
    "test_model = accuracy_score(y_test, y_pred)\n",
    "print(\"Accurancy on train data: \",train_model)\n",
    "print(\"Accurancy on test data: \",test_model)\n",
    "print(\"================================== Tree ===============================================\\n\")\n",
    "model.visualize()"
   ]
  },
  {
   "attachments": {},
   "cell_type": "markdown",
   "metadata": {
    "id": "UkJf1OrO_ijl"
   },
   "source": [
    "### Answer the following question (0.5 points)\n",
    "\n",
    "**Question 1:** Your comments on the accuracy scores between train and test sets on ```titanic2``` dataset? Elaborate, explain and propose a solution\n",
    "\n",
    "---\n",
    "\n",
    "1. in dataset tennis , accurancy of train data alway get max value but in test data the result have more change because test data is random so sometimes the value not in tree so will be return false leads to a change accurancy.To propose a solution , I think the dataset must be added more data for train . \n",
    "2. in dataset titanic2 , accurancy of train and test data there's not much of a difference about 80% so i think , model is not overfitting but the accuracy does not reach the maximum value because the features od dataset not clear distinction . We can add more feature have high distinct so model can get maximun value of accurancy"
   ]
  },
  {
   "cell_type": "markdown",
   "metadata": {
    "id": "1gXUwu_vDmep"
   },
   "source": [
    "## Exercise 2: Clustering (4 points + 1 bonus point)\n",
    "\n",
    "### Requirements\n",
    "\n",
    "In this exercise, you will need to implement K-means clustering algorithm on synthetic data."
   ]
  },
  {
   "cell_type": "code",
   "execution_count": 10,
   "metadata": {
    "id": "U9MTEeMP_xbj"
   },
   "outputs": [],
   "source": [
    "import numpy as np\n",
    "from matplotlib import pyplot as plt\n",
    "from scipy.spatial.distance import cdist"
   ]
  },
  {
   "cell_type": "markdown",
   "metadata": {
    "id": "6w5S-iHLJFRx"
   },
   "source": [
    "**Dataset:**\n",
    "\n",
    "- The synthetic dataset contains 1500 data points that belong to 3 clusters. The clusters' centers are respectively $(2,2), (7,3), (3,6)$. \n",
    "\n",
    "- Data points of each cluster are generated randomly from the bivariate normal distribution"
   ]
  },
  {
   "cell_type": "code",
   "execution_count": 11,
   "metadata": {
    "id": "OW6Xu17kMIky"
   },
   "outputs": [],
   "source": [
    "seed = 520 # for reproducibility"
   ]
  },
  {
   "cell_type": "code",
   "execution_count": 12,
   "metadata": {
    "id": "8MEYeXCQH1Dr"
   },
   "outputs": [],
   "source": [
    "### Description: generate synthetic data\n",
    "\n",
    "def generate_data(means, cov, N, K):\n",
    "    np.random.seed(seed) \n",
    "    X0 = np.random.multivariate_normal(means[0], cov, N)\n",
    "    X1 = np.random.multivariate_normal(means[1], cov, N)\n",
    "    X2 = np.random.multivariate_normal(means[2], cov, N)\n",
    "\n",
    "    X = np.concatenate((X0, X1, X2), axis = 0)\n",
    "    original_label = np.asarray([0]*N + [1]*N + [2]*N).T\n",
    "\n",
    "    return X, original_label\n",
    "\n",
    "\n",
    "# visualize data \n",
    "def kmeans_display(X, label):\n",
    "    K = np.amax(label) + 1\n",
    "    X0 = X[label == 0, :]\n",
    "    X1 = X[label == 1, :]\n",
    "    X2 = X[label == 2, :]\n",
    "    \n",
    "    plt.plot(X0[:, 0], X0[:, 1], 'b^', markersize = 4, alpha = .8)\n",
    "    plt.plot(X1[:, 0], X1[:, 1], 'go', markersize = 4, alpha = .8)\n",
    "    plt.plot(X2[:, 0], X2[:, 1], 'rs', markersize = 4, alpha = .8)\n",
    "\n",
    "    plt.axis('equal')\n",
    "    plt.plot()\n",
    "    plt.show()"
   ]
  },
  {
   "cell_type": "code",
   "execution_count": 13,
   "metadata": {
    "colab": {
     "base_uri": "https://localhost:8080/",
     "height": 265
    },
    "id": "V3sqpASYLVd6",
    "outputId": "180ecf12-50ae-42d2-b9c0-0967b24e2222"
   },
   "outputs": [
    {
     "data": {
      "image/png": "[encoded data removed]",
      "text/plain": [
       "<Figure size 640x480 with 1 Axes>"
      ]
     },
     "metadata": {},
     "output_type": "display_data"
    }
   ],
   "source": [
    "N, K = 500, 3\n",
    "means = [[2, 2], [7, 3], [3, 6]]\n",
    "cov = [[1, 0], [0, 1]]\n",
    "\n",
    "X, original_label = generate_data(means, cov, N, K)\n",
    "kmeans_display(X, original_label)"
   ]
  },
  {
   "cell_type": "markdown",
   "metadata": {
    "id": "6wDWbfKgLhcp"
   },
   "source": [
    "You will need to fill in the ```YOUR CODE HERE``` to finish K-means clustering algorithm"
   ]
  },
  {
   "cell_type": "markdown",
   "metadata": {
    "id": "TGyHXCaeLy64"
   },
   "source": [
    "### Implementation (4 points)"
   ]
  },
  {
   "cell_type": "code",
   "execution_count": 14,
   "metadata": {
    "id": "-pOgiA5_ME9w"
   },
   "outputs": [],
   "source": [
    "# 0.5\n",
    "def kmeans_init_centers(X, k):\n",
    "    np.random.seed(seed)\n",
    "\n",
    "    # randomly pick k rows of X as initial centers using np.random.choice function\n",
    "    \n",
    "    # YOUR CODE HERE\n",
    "    raise NotImplementedError()"
   ]
  },
  {
   "cell_type": "code",
   "execution_count": 15,
   "metadata": {
    "id": "LEtg0cx6MVJY"
   },
   "outputs": [
    {
     "ename": "NotImplementedError",
     "evalue": "",
     "output_type": "error",
     "traceback": [
      "\u001b[1;31m---------------------------------------------------------------------------\u001b[0m",
      "\u001b[1;31mNotImplementedError\u001b[0m                       Traceback (most recent call last)",
      "Cell \u001b[1;32mIn[15], line 1\u001b[0m\n\u001b[1;32m----> 1\u001b[0m centers \u001b[39m=\u001b[39m kmeans_init_centers(X, K)\n\u001b[0;32m      2\u001b[0m \u001b[39massert\u001b[39;00m centers\u001b[39m.\u001b[39mshape \u001b[39m==\u001b[39m (K, \u001b[39m2\u001b[39m)\n",
      "Cell \u001b[1;32mIn[14], line 8\u001b[0m, in \u001b[0;36mkmeans_init_centers\u001b[1;34m(X, k)\u001b[0m\n\u001b[0;32m      3\u001b[0m np\u001b[39m.\u001b[39mrandom\u001b[39m.\u001b[39mseed(seed)\n\u001b[0;32m      5\u001b[0m \u001b[39m# randomly pick k rows of X as initial centers using np.random.choice function\u001b[39;00m\n\u001b[0;32m      6\u001b[0m \n\u001b[0;32m      7\u001b[0m \u001b[39m# YOUR CODE HERE\u001b[39;00m\n\u001b[1;32m----> 8\u001b[0m \u001b[39mraise\u001b[39;00m \u001b[39mNotImplementedError\u001b[39;00m()\n",
      "\u001b[1;31mNotImplementedError\u001b[0m: "
     ]
    }
   ],
   "source": [
    "centers = kmeans_init_centers(X, K)\n",
    "assert centers.shape == (K, 2)"
   ]
  },
  {
   "cell_type": "code",
   "execution_count": null,
   "metadata": {
    "id": "_uE76wVmMVk5"
   },
   "outputs": [],
   "source": [
    "# 1\n",
    "def kmeans_assign_labels(X, centers):\n",
    "    # calculate pairwise distances between data and centers using cdist\n",
    "    # return index of the closest center using np.argmin\n",
    "\n",
    "    # YOUR CODE HERE\n",
    "    raise NotImplementedError()"
   ]
  },
  {
   "cell_type": "code",
   "execution_count": null,
   "metadata": {
    "id": "dejjjGM8MZMJ"
   },
   "outputs": [],
   "source": [
    "assigned_labels = kmeans_assign_labels(X, centers)\n",
    "assert assigned_labels.shape == (N*3, )"
   ]
  },
  {
   "cell_type": "code",
   "execution_count": null,
   "metadata": {
    "id": "NI48jo7IMa20"
   },
   "outputs": [],
   "source": [
    "# 1\n",
    "def kmeans_update_centers(X, labels, K):\n",
    "    centers = np.zeros((K, X.shape[1]))\n",
    "    for k in range(K):\n",
    "        # collect all points assigned to the k-th cluster \n",
    "        # take average\n",
    "\n",
    "        # YOUR CODE HERE\n",
    "        raise NotImplementedError()\n",
    "        \n",
    "    return centers"
   ]
  },
  {
   "cell_type": "code",
   "execution_count": null,
   "metadata": {
    "id": "sB4HwTURMdic"
   },
   "outputs": [],
   "source": [
    "# 0.5\n",
    "def has_converged(centers, new_centers):\n",
    "    # return True if two sets of centers are the same\n",
    "\n",
    "    # YOUR CODE HERE\n",
    "    raise NotImplementedError()"
   ]
  },
  {
   "cell_type": "code",
   "execution_count": null,
   "metadata": {
    "id": "5bcLqYi_MfxM"
   },
   "outputs": [],
   "source": [
    "# 1\n",
    "def kmeans(X, K):\n",
    "    # save the center coordinates of each iteration\n",
    "    centers = [kmeans_init_centers(X, K)]  \n",
    "    # save the labels of each iteration\n",
    "    labels = []\n",
    "    it = 0 \n",
    "    while True:\n",
    "        # at each iteration:\n",
    "        # 1. assign label for each points and append to labels\n",
    "        # 2. update the centers\n",
    "        # 3. check the convergence condition\n",
    "        #    and append NEW center coordinates to centers\n",
    "        # 4. update iteration \n",
    "\n",
    "        # YOUR CODE HERE\n",
    "        raise NotImplementedError()\n",
    "    \n",
    "    return (centers, labels, it)"
   ]
  },
  {
   "cell_type": "code",
   "execution_count": null,
   "metadata": {
    "id": "mAPz0ii1Mh94"
   },
   "outputs": [],
   "source": [
    "(centers, labels, it) = kmeans(X, K)\n",
    "print('Centers found by k-means algorithm:')\n",
    "print(centers[-1])\n",
    "print('='*60)\n",
    "\n",
    "kmeans_display(X, labels[-1])"
   ]
  },
  {
   "cell_type": "markdown",
   "metadata": {
    "id": "o1_S2KR3L72g"
   },
   "source": [
    "### Answer the following questions (bonus 1 point)\n",
    "\n",
    "**Question 2:** Your comments on the result of K-means algorithm on the synthetic dataset? (0.25)\n",
    "\n",
    "---\n",
    "\n",
    "*Your answer here*"
   ]
  },
  {
   "cell_type": "markdown",
   "metadata": {
    "id": "T7lsqqBKMBRE"
   },
   "source": [
    "**Question 3:** \n",
    "\n",
    "- Drawbacks of K-means clustering algorithm (0.5)\n",
    "\n",
    "- Propose solutions to the drawbacks you stated above (0.25)\n",
    "\n",
    "---\n",
    "\n",
    "*Your answer here*"
   ]
  }
 ],
 "metadata": {
  "colab": {
   "provenance": []
  },
  "kernelspec": {
   "display_name": "Python 3",
   "language": "python",
   "name": "python3"
  },
  "language_info": {
   "codemirror_mode": {
    "name": "ipython",
    "version": 3
   },
   "file_extension": ".py",
   "mimetype": "text/x-python",
   "name": "python",
   "nbconvert_exporter": "python",
   "pygments_lexer": "ipython3",
   "version": "3.9.12"
  },
  "vscode": {
   "interpreter": {
    "hash": "81794d4967e6c3204c66dcd87b604927b115b27c00565d3d43f05ba2f3a2cb0d"
   }
  }
 },
 "nbformat": 4,
 "nbformat_minor": 1
}
