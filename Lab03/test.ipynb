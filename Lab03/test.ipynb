{
 "cells": [
  {
   "cell_type": "code",
   "execution_count": 24,
   "metadata": {},
   "outputs": [],
   "source": [
    "import pandas as pd\n",
    "import numpy as np\n",
    "import sklearn\n",
    "from sklearn.metrics import accuracy_score"
   ]
  },
  {
   "cell_type": "code",
   "execution_count": 25,
   "metadata": {},
   "outputs": [],
   "source": [
    "df = pd.read_csv(\"data/tennis.txt\",sep='\\t')\n"
   ]
  },
  {
   "cell_type": "code",
   "execution_count": 26,
   "metadata": {},
   "outputs": [
    {
     "data": {
      "text/html": [
       "<div>\n",
       "<style scoped>\n",
       "    .dataframe tbody tr th:only-of-type {\n",
       "        vertical-align: middle;\n",
       "    }\n",
       "\n",
       "    .dataframe tbody tr th {\n",
       "        vertical-align: top;\n",
       "    }\n",
       "\n",
       "    .dataframe thead th {\n",
       "        text-align: right;\n",
       "    }\n",
       "</style>\n",
       "<table border=\"1\" class=\"dataframe\">\n",
       "  <thead>\n",
       "    <tr style=\"text-align: right;\">\n",
       "      <th></th>\n",
       "      <th>outlook</th>\n",
       "      <th>temperature</th>\n",
       "      <th>humidity</th>\n",
       "      <th>wind</th>\n",
       "      <th>playtennis</th>\n",
       "    </tr>\n",
       "  </thead>\n",
       "  <tbody>\n",
       "    <tr>\n",
       "      <th>0</th>\n",
       "      <td>sunny</td>\n",
       "      <td>hot</td>\n",
       "      <td>high</td>\n",
       "      <td>weak</td>\n",
       "      <td>no</td>\n",
       "    </tr>\n",
       "    <tr>\n",
       "      <th>1</th>\n",
       "      <td>sunny</td>\n",
       "      <td>hot</td>\n",
       "      <td>high</td>\n",
       "      <td>strong</td>\n",
       "      <td>no</td>\n",
       "    </tr>\n",
       "    <tr>\n",
       "      <th>2</th>\n",
       "      <td>overcast</td>\n",
       "      <td>hot</td>\n",
       "      <td>high</td>\n",
       "      <td>weak</td>\n",
       "      <td>yes</td>\n",
       "    </tr>\n",
       "    <tr>\n",
       "      <th>3</th>\n",
       "      <td>rain</td>\n",
       "      <td>mild</td>\n",
       "      <td>high</td>\n",
       "      <td>weak</td>\n",
       "      <td>yes</td>\n",
       "    </tr>\n",
       "    <tr>\n",
       "      <th>4</th>\n",
       "      <td>rain</td>\n",
       "      <td>cool</td>\n",
       "      <td>normal</td>\n",
       "      <td>weak</td>\n",
       "      <td>yes</td>\n",
       "    </tr>\n",
       "    <tr>\n",
       "      <th>5</th>\n",
       "      <td>rain</td>\n",
       "      <td>cool</td>\n",
       "      <td>normal</td>\n",
       "      <td>strong</td>\n",
       "      <td>no</td>\n",
       "    </tr>\n",
       "    <tr>\n",
       "      <th>6</th>\n",
       "      <td>overcast</td>\n",
       "      <td>cool</td>\n",
       "      <td>normal</td>\n",
       "      <td>strong</td>\n",
       "      <td>yes</td>\n",
       "    </tr>\n",
       "    <tr>\n",
       "      <th>7</th>\n",
       "      <td>sunny</td>\n",
       "      <td>mild</td>\n",
       "      <td>high</td>\n",
       "      <td>weak</td>\n",
       "      <td>no</td>\n",
       "    </tr>\n",
       "    <tr>\n",
       "      <th>8</th>\n",
       "      <td>sunny</td>\n",
       "      <td>cool</td>\n",
       "      <td>normal</td>\n",
       "      <td>weak</td>\n",
       "      <td>yes</td>\n",
       "    </tr>\n",
       "    <tr>\n",
       "      <th>9</th>\n",
       "      <td>rain</td>\n",
       "      <td>mild</td>\n",
       "      <td>normal</td>\n",
       "      <td>weak</td>\n",
       "      <td>yes</td>\n",
       "    </tr>\n",
       "    <tr>\n",
       "      <th>10</th>\n",
       "      <td>sunny</td>\n",
       "      <td>mild</td>\n",
       "      <td>normal</td>\n",
       "      <td>strong</td>\n",
       "      <td>yes</td>\n",
       "    </tr>\n",
       "    <tr>\n",
       "      <th>11</th>\n",
       "      <td>overcast</td>\n",
       "      <td>mild</td>\n",
       "      <td>high</td>\n",
       "      <td>strong</td>\n",
       "      <td>yes</td>\n",
       "    </tr>\n",
       "    <tr>\n",
       "      <th>12</th>\n",
       "      <td>overcast</td>\n",
       "      <td>hot</td>\n",
       "      <td>normal</td>\n",
       "      <td>weak</td>\n",
       "      <td>yes</td>\n",
       "    </tr>\n",
       "    <tr>\n",
       "      <th>13</th>\n",
       "      <td>rain</td>\n",
       "      <td>mild</td>\n",
       "      <td>high</td>\n",
       "      <td>strong</td>\n",
       "      <td>no</td>\n",
       "    </tr>\n",
       "  </tbody>\n",
       "</table>\n",
       "</div>"
      ],
      "text/plain": [
       "     outlook temperature humidity    wind playtennis\n",
       "0      sunny         hot     high    weak         no\n",
       "1      sunny         hot     high  strong         no\n",
       "2   overcast         hot     high    weak        yes\n",
       "3       rain        mild     high    weak        yes\n",
       "4       rain        cool   normal    weak        yes\n",
       "5       rain        cool   normal  strong         no\n",
       "6   overcast        cool   normal  strong        yes\n",
       "7      sunny        mild     high    weak         no\n",
       "8      sunny        cool   normal    weak        yes\n",
       "9       rain        mild   normal    weak        yes\n",
       "10     sunny        mild   normal  strong        yes\n",
       "11  overcast        mild     high  strong        yes\n",
       "12  overcast         hot   normal    weak        yes\n",
       "13      rain        mild     high  strong         no"
      ]
     },
     "execution_count": 26,
     "metadata": {},
     "output_type": "execute_result"
    }
   ],
   "source": [
    "df"
   ]
  },
  {
   "cell_type": "code",
   "execution_count": 27,
   "metadata": {},
   "outputs": [
    {
     "data": {
      "text/plain": [
       "array([['sunny', 'hot', 'high', 'weak', 'no'],\n",
       "       ['sunny', 'hot', 'high', 'strong', 'no'],\n",
       "       ['overcast', 'hot', 'high', 'weak', 'yes'],\n",
       "       ['rain', 'mild', 'high', 'weak', 'yes'],\n",
       "       ['rain', 'cool', 'normal', 'weak', 'yes'],\n",
       "       ['rain', 'cool', 'normal', 'strong', 'no'],\n",
       "       ['overcast', 'cool', 'normal', 'strong', 'yes'],\n",
       "       ['sunny', 'mild', 'high', 'weak', 'no'],\n",
       "       ['sunny', 'cool', 'normal', 'weak', 'yes'],\n",
       "       ['rain', 'mild', 'normal', 'weak', 'yes'],\n",
       "       ['sunny', 'mild', 'normal', 'strong', 'yes'],\n",
       "       ['overcast', 'mild', 'high', 'strong', 'yes'],\n",
       "       ['overcast', 'hot', 'normal', 'weak', 'yes'],\n",
       "       ['rain', 'mild', 'high', 'strong', 'no']], dtype=object)"
      ]
     },
     "execution_count": 27,
     "metadata": {},
     "output_type": "execute_result"
    }
   ],
   "source": [
    "df.to_numpy()"
   ]
  },
  {
   "cell_type": "code",
   "execution_count": 28,
   "metadata": {},
   "outputs": [
    {
     "data": {
      "text/plain": [
       "array(['outlook', 'temperature', 'humidity', 'wind', 'playtennis'],\n",
       "      dtype=object)"
      ]
     },
     "execution_count": 28,
     "metadata": {},
     "output_type": "execute_result"
    }
   ],
   "source": [
    "columnname = df.columns.to_numpy()\n",
    "columnname"
   ]
  },
  {
   "cell_type": "code",
   "execution_count": null,
   "metadata": {},
   "outputs": [],
   "source": []
  },
  {
   "cell_type": "code",
   "execution_count": 29,
   "metadata": {},
   "outputs": [
    {
     "data": {
      "text/plain": [
       "array([['sunny', 'hot', 'high', 'weak'],\n",
       "       ['sunny', 'hot', 'high', 'strong'],\n",
       "       ['overcast', 'hot', 'high', 'weak'],\n",
       "       ['rain', 'mild', 'high', 'weak'],\n",
       "       ['rain', 'cool', 'normal', 'weak'],\n",
       "       ['rain', 'cool', 'normal', 'strong'],\n",
       "       ['overcast', 'cool', 'normal', 'strong'],\n",
       "       ['sunny', 'mild', 'high', 'weak'],\n",
       "       ['sunny', 'cool', 'normal', 'weak'],\n",
       "       ['rain', 'mild', 'normal', 'weak'],\n",
       "       ['sunny', 'mild', 'normal', 'strong'],\n",
       "       ['overcast', 'mild', 'high', 'strong'],\n",
       "       ['overcast', 'hot', 'normal', 'weak'],\n",
       "       ['rain', 'mild', 'high', 'strong']], dtype=object)"
      ]
     },
     "execution_count": 29,
     "metadata": {},
     "output_type": "execute_result"
    }
   ],
   "source": [
    "X = df.to_numpy()[:, :-1]\n",
    "X"
   ]
  },
  {
   "cell_type": "code",
   "execution_count": 30,
   "metadata": {},
   "outputs": [],
   "source": [
    "for i, x in enumerate(X):\n",
    "    x_dict = dict(zip(columnname, x))"
   ]
  },
  {
   "cell_type": "code",
   "execution_count": 31,
   "metadata": {},
   "outputs": [
    {
     "data": {
      "text/plain": [
       "array([1, 1, 1, 1, 1, 1, 1, 1, 1, 1, 1, 1, 1, 1])"
      ]
     },
     "execution_count": 31,
     "metadata": {},
     "output_type": "execute_result"
    }
   ],
   "source": [
    "np.ones(len(X), dtype = int)"
   ]
  },
  {
   "cell_type": "code",
   "execution_count": 32,
   "metadata": {},
   "outputs": [],
   "source": [
    "label ,y = np.unique(df.to_numpy()[:,-1] , return_inverse=True)"
   ]
  },
  {
   "cell_type": "code",
   "execution_count": 33,
   "metadata": {},
   "outputs": [],
   "source": [
    "def predict_entry(self, x_test):\n",
    "    for node in self.List_nodes:\n",
    "        if node.Attribute not in x_test:\n",
    "            global Label\n",
    "            return (int)(node.Name == Label[1])\n",
    "        \n",
    "        if x_test[node.Attribute] == node.Name:\n",
    "            return node.predict_entry(x_test)\n",
    "    node = np.random.choice(self.List_nodes)\n",
    "    x_test[node.Attribute] = node.Name\n",
    "    return self.predict_entry(x_test)\n",
    "    \n",
    "def predict(self, X_test):\n",
    "    global Features_name , Label\n",
    "    y_pred = np.ones(len(X_test), dtype = int)\n",
    "    \n",
    "    for (index, x_test) in enumerate(X_test):\n",
    "        x_test = dict(zip(Features_name, x_test))\n",
    "        y_pred[index] = self.predict_entry(x_test)\n",
    "    return y_pred"
   ]
  },
  {
   "cell_type": "code",
   "execution_count": 34,
   "metadata": {},
   "outputs": [],
   "source": [
    "height, width = X.shape\n",
    "\n",
    "\n",
    "# counts n.o. 0-labels and 1-labels of all values of all attributes\n",
    "# counters: list: dict{str : [count0, count1]}\n",
    "counters = [dict() for _ in range(width)]\n",
    "# list indices of all values of all attributes\n",
    "# collectors: list: dict{str : [index0, index1, index2,...,]}\n",
    "collectors = [dict() for _ in range(width)]\n",
    "\n",
    "for i in range(height):\n",
    "    label = y[i]\n",
    "    \n",
    "    for (index, value) in enumerate(X[i]):\n",
    "        counter = counters[index]\n",
    "        counter[value] = counter.get(value, [0, 0])\n",
    "        counter[value][label] += 1\n",
    "        \n",
    "        collector = collectors[index]\n",
    "        collector[value] = collector.get(value, [])\n",
    "        collector[value].append(i)\n",
    "        "
   ]
  },
  {
   "cell_type": "code",
   "execution_count": 35,
   "metadata": {},
   "outputs": [
    {
     "data": {
      "text/plain": [
       "[{'sunny': [0, 1, 7, 8, 10],\n",
       "  'overcast': [2, 6, 11, 12],\n",
       "  'rain': [3, 4, 5, 9, 13]},\n",
       " {'hot': [0, 1, 2, 12], 'mild': [3, 7, 9, 10, 11, 13], 'cool': [4, 5, 6, 8]},\n",
       " {'high': [0, 1, 2, 3, 7, 11, 13], 'normal': [4, 5, 6, 8, 9, 10, 12]},\n",
       " {'weak': [0, 2, 3, 4, 7, 8, 9, 12], 'strong': [1, 5, 6, 10, 11, 13]}]"
      ]
     },
     "execution_count": 35,
     "metadata": {},
     "output_type": "execute_result"
    }
   ],
   "source": [
    "collectors"
   ]
  },
  {
   "cell_type": "code",
   "execution_count": 36,
   "metadata": {},
   "outputs": [],
   "source": [
    "\n",
    "def entropy(counts):\n",
    "    if counts[0] == 0 or counts[1] == 0:\n",
    "        return 0\n",
    "    ratio_0 = (counts[0])/np.sum(counts)\n",
    "    ratio_1 = (counts[1])/np.sum(counts)\n",
    "    return -(ratio_0*np.log2(ratio_0) + ratio_1*np.log2(ratio_1))"
   ]
  },
  {
   "cell_type": "code",
   "execution_count": 37,
   "metadata": {},
   "outputs": [
    {
     "data": {
      "text/plain": [
       "[{'sunny': [3, 2], 'overcast': [0, 4], 'rain': [2, 3]},\n",
       " {'hot': [2, 2], 'mild': [2, 4], 'cool': [1, 3]},\n",
       " {'high': [4, 3], 'normal': [1, 6]},\n",
       " {'weak': [2, 6], 'strong': [3, 3]}]"
      ]
     },
     "execution_count": 37,
     "metadata": {},
     "output_type": "execute_result"
    }
   ],
   "source": [
    "counters"
   ]
  },
  {
   "cell_type": "code",
   "execution_count": 38,
   "metadata": {},
   "outputs": [
    {
     "name": "stdout",
     "output_type": "stream",
     "text": [
      "{'sunny': [0, 1, 7, 8, 10], 'overcast': [2, 6, 11, 12], 'rain': [3, 4, 5, 9, 13]}\n",
      "{'sunny': [3, 2], 'overcast': [0, 4], 'rain': [2, 3]}\n",
      "outlook\n"
     ]
    }
   ],
   "source": [
    "Information_Gain = []\n",
    "for (index, counter) in enumerate(counters):\n",
    "    I = 0\n",
    "    num_ele = np.sum(np.array(list(counter.values())))\n",
    "    for value in counter.values():\n",
    "        I += (sum(value)/num_ele)*entropy(value)\n",
    "    Information_Gain.append(I)\n",
    "min_index = np.argmin(np.array(Information_Gain))\n",
    "\n",
    "\n",
    "print(collectors[min_index])\n",
    "print(counters[min_index])\n",
    "print(columnname[min_index])"
   ]
  },
  {
   "cell_type": "code",
   "execution_count": 39,
   "metadata": {},
   "outputs": [
    {
     "data": {
      "text/plain": [
       "array([['hot', 'high', 'weak'],\n",
       "       ['hot', 'high', 'strong'],\n",
       "       ['hot', 'high', 'weak'],\n",
       "       ['mild', 'high', 'weak'],\n",
       "       ['cool', 'normal', 'weak'],\n",
       "       ['cool', 'normal', 'strong'],\n",
       "       ['cool', 'normal', 'strong'],\n",
       "       ['mild', 'high', 'weak'],\n",
       "       ['cool', 'normal', 'weak'],\n",
       "       ['mild', 'normal', 'weak'],\n",
       "       ['mild', 'normal', 'strong'],\n",
       "       ['mild', 'high', 'strong'],\n",
       "       ['hot', 'normal', 'weak'],\n",
       "       ['mild', 'high', 'strong']], dtype=object)"
      ]
     },
     "execution_count": 39,
     "metadata": {},
     "output_type": "execute_result"
    }
   ],
   "source": [
    "np.delete(X, min_index, axis = 1)"
   ]
  },
  {
   "cell_type": "code",
   "execution_count": 40,
   "metadata": {},
   "outputs": [],
   "source": [
    "t = np.array([7.5,7.8,7.,6.5,7.8])\n",
    "v = np.array([4,4,4,2,4])"
   ]
  },
  {
   "cell_type": "code",
   "execution_count": 41,
   "metadata": {},
   "outputs": [
    {
     "data": {
      "text/plain": [
       "7.411111111111111"
      ]
     },
     "execution_count": 41,
     "metadata": {},
     "output_type": "execute_result"
    }
   ],
   "source": [
    "(np.sum(t*v))/np.sum(v)"
   ]
  },
  {
   "cell_type": "code",
   "execution_count": 42,
   "metadata": {},
   "outputs": [
    {
     "data": {
      "text/plain": [
       "array([6.  , 8.5 , 8.5 , 7.  , 7.17, 7.  , 5.5 , 6.5 , 5.  , 7.5 , 7.5 ,\n",
       "       5.  , 8.  , 7.  , 8.5 , 7.  , 6.  , 6.5 , 7.  , 8.3 , 8.5 , 9.  ,\n",
       "       8.8 , 8.5 , 5.8 , 7.4 , 6.5 , 8.8 , 6.2 , 7.5 , 6.7 , 6.8 , 8.8 ])"
      ]
     },
     "execution_count": 42,
     "metadata": {},
     "output_type": "execute_result"
    }
   ],
   "source": [
    "score = np.array(['6', '8.5', '8.5', '7', '7.17', '7', '5.5', '6.5', '5', '7.5',\n",
    "       '7.5', '5', '8', '7', '8.5', '7', '6', '6.5', '7', '8.3', '8.5',\n",
    "       '9', '8.8', '8.5', '5.8', '7.4', '6.5', '8.8', '6.2', '7.5', '6.7',\n",
    "       '6.8', '8.8']).astype(np.float64)\n",
    "#score = np.append(score,[7.5,7.8,7.,6.5,7.8],axis=0)\n",
    "score"
   ]
  },
  {
   "cell_type": "code",
   "execution_count": 43,
   "metadata": {},
   "outputs": [],
   "source": [
    "c = np.array(['2', '4', '3', '4', '4', '3', '4', '4', '4', '4', '2', '4', '4',\n",
    "       '4', '2', '4', '4', '4', '2', '4', '4', '4', '2', '2', '2', '4',\n",
    "       '4', '4', '3', '4', '4', '4', '4']).astype(np.int64)\n",
    "#c = np.append(c,[4,4,4,2,4],axis=0)"
   ]
  },
  {
   "cell_type": "code",
   "execution_count": 44,
   "metadata": {},
   "outputs": [
    {
     "data": {
      "text/plain": [
       "array([2, 4, 3, 4, 4, 3, 4, 4, 4, 4, 2, 4, 4, 4, 2, 4, 4, 4, 2, 4, 4, 4,\n",
       "       2, 2, 2, 4, 4, 4, 3, 4, 4, 4, 4], dtype=int64)"
      ]
     },
     "execution_count": 44,
     "metadata": {},
     "output_type": "execute_result"
    }
   ],
   "source": [
    "c"
   ]
  },
  {
   "cell_type": "code",
   "execution_count": 45,
   "metadata": {},
   "outputs": [
    {
     "data": {
      "text/plain": [
       "2.8841043478260873"
      ]
     },
     "execution_count": 45,
     "metadata": {},
     "output_type": "execute_result"
    }
   ],
   "source": [
    "sumary = np.sum((score * c))/np.sum(c)\n",
    "total = sumary * 0.1 * 4\n",
    "total"
   ]
  },
  {
   "cell_type": "code",
   "execution_count": null,
   "metadata": {},
   "outputs": [],
   "source": []
  }
 ],
 "metadata": {
  "kernelspec": {
   "display_name": "Python 3",
   "language": "python",
   "name": "python3"
  },
  "language_info": {
   "codemirror_mode": {
    "name": "ipython",
    "version": 3
   },
   "file_extension": ".py",
   "mimetype": "text/x-python",
   "name": "python",
   "nbconvert_exporter": "python",
   "pygments_lexer": "ipython3",
   "version": "3.9.12"
  },
  "orig_nbformat": 4,
  "vscode": {
   "interpreter": {
    "hash": "81794d4967e6c3204c66dcd87b604927b115b27c00565d3d43f05ba2f3a2cb0d"
   }
  }
 },
 "nbformat": 4,
 "nbformat_minor": 2
}
